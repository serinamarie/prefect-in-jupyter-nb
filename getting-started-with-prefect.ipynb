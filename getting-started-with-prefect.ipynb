{
 "cells": [
  {
   "cell_type": "markdown",
   "id": "2f59afe9",
   "metadata": {},
   "source": [
    "# Part 1: Dipping your toes into Prefect\n",
    "Let's gain visibility into our Python functions with Prefect! All we have to do for observability, scheduling, UI, and more, is to add a single `@flow` decorator. After that, we'll also create a deployment and view our flow runs and deployment in the Prefect UI. "
   ]
  },
  {
   "cell_type": "markdown",
   "id": "200e50dd",
   "metadata": {},
   "source": [
    "## First, we'll install Prefect"
   ]
  },
  {
   "cell_type": "code",
   "execution_count": 4,
   "id": "df94a551",
   "metadata": {},
   "outputs": [],
   "source": [
    "%%capture \n",
    "!pip install -U prefect\n",
    "# The magic capture cmd simply suppresses the install output, which is lengthy."
   ]
  },
  {
   "cell_type": "markdown",
   "id": "851fc8f5",
   "metadata": {},
   "source": [
    "## Import code from my_first_script.py\n",
    "We will import the function called `my_favorite_number` from `my_first_script.py`. The function has a `@flow` decorator on it, thus making it a `flow`. We will see what is so great about that in just moments!"
   ]
  },
  {
   "cell_type": "code",
   "execution_count": 15,
   "id": "19ecc749",
   "metadata": {},
   "outputs": [
    {
     "name": "stdout",
     "output_type": "stream",
     "text": [
      "Imported my_favorite_number flow\n"
     ]
    }
   ],
   "source": [
    "# Importing my_favorite_number function w/ @flow decorator\n",
    "from my_first_script import my_favorite_number\n",
    "print(\"Imported my_favorite_number flow\")"
   ]
  },
  {
   "cell_type": "markdown",
   "id": "25044d50",
   "metadata": {},
   "source": [
    "## Run your flow!"
   ]
  },
  {
   "cell_type": "code",
   "execution_count": 6,
   "id": "f571e734",
   "metadata": {},
   "outputs": [
    {
     "name": "stderr",
     "output_type": "stream",
     "text": [
      "14:52:34.064 | INFO    | prefect.engine - Created flow run 'nano-goshawk' for flow 'my-favorite-number'\n",
      "14:52:34.065 | INFO    | Flow run 'nano-goshawk' - Starting 'ConcurrentTaskRunner'; submitted tasks will be run concurrently...\n",
      "14:52:34.169 | INFO    | Flow run 'nano-goshawk' - Some info about my_favorite_number...\n",
      "14:52:34.182 | INFO    | Flow run 'nano-goshawk' - Finished in state Completed()\n"
     ]
    },
    {
     "data": {
      "text/plain": [
       "42"
      ]
     },
     "execution_count": 6,
     "metadata": {},
     "output_type": "execute_result"
    }
   ],
   "source": [
    "my_favorite_number()"
   ]
  },
  {
   "cell_type": "markdown",
   "id": "6e428a5e",
   "metadata": {},
   "source": [
    "## Let's view your flow run in the UI\n",
    "1. Copy this command: `prefect orion start`. This command will allow you to start an Orion server, enabling you to view your flow!\n",
    "2. Visit the `Jupyter Home Page` tab that is already open in your browser. Click \"New\" in the right-hand corner and choose \"Terminal\". Paste the command you copied :)\n",
    "2. Visit http://127.0.0.1:4200 to view your flow run and explore the UI."
   ]
  },
  {
   "cell_type": "markdown",
   "id": "7e3770e7",
   "metadata": {},
   "source": [
    "# Part 2: Create a deployment in one command\n",
    "Now that you have run a flow and viewed it in the UI, let's create a deployment. Deploying your flow means you no longer need to call the function, flow or .py file locally to run your code. With a single command, any script you write in Python can be executed regularly while enabling you to be notified of failures and observe the state of your jobs at all times.\n",
    "\n",
    "Run the following command, which will build and apply a deployment:"
   ]
  },
  {
   "cell_type": "code",
   "execution_count": 10,
   "id": "fe7c942d",
   "metadata": {},
   "outputs": [
    {
     "name": "stdout",
     "output_type": "stream",
     "text": [
      "Found flow 'my-favorite-number'\n",
      "Deployment YAML created at \n",
      "'/Users/bean/Documents/prefect-in-jupyter-notebook/my_favorite_number-deployment\n",
      ".yaml'.\n",
      "Deployment 'my-favorite-number/First Flow Deployment' successfully created with \n",
      "id 'db72b62a-8dd3-4002-9fb7-db6c281f368d'.\n",
      "\n",
      "To execute flow runs from this deployment, start an agent that pulls work from \n",
      "the the 'default' work queue:\n",
      "$ prefect agent start -q 'default'\n"
     ]
    }
   ],
   "source": [
    "%%bash\n",
    "prefect deployment build my_first_script:my_favorite_number --name \"First Flow Deployment\" --apply --skip-upload"
   ]
  },
  {
   "cell_type": "markdown",
   "id": "34ca00b1",
   "metadata": {},
   "source": [
    "We don't need to worry about starting an agent quite yet. For now, let's head on over to the UI to view our newly created deployment! Visit http://127.0.0.1:4200."
   ]
  },
  {
   "cell_type": "markdown",
   "id": "8d6ffbbd",
   "metadata": {},
   "source": [
    "## Creating a flow run from your deployment in the UI"
   ]
  },
  {
   "cell_type": "markdown",
   "id": "3d78e884",
   "metadata": {},
   "source": [
    "In the UI, take a look at the `Deployments` tab. Click on your new deployment (called `First Flow Deployment`). Then click the `Run` button in the top right (choose `Now with defaults`). This will create a 'flow run' from your deployment. You can view the flow run under the `Flow Runs` tab. "
   ]
  },
  {
   "cell_type": "markdown",
   "id": "82ebc6ea",
   "metadata": {},
   "source": [
    "## Execute flow runs from this deployment \n",
    "Starting a local agent will enable you to start the job you created in the last step. To do this, you simply need to:\n",
    "1. Copy this command: `prefect agent start`.\n",
    "2. Visit the `Jupyter Home Page` tab that is already open in your browser. Click \"New\" in the right-hand corner and choose \"Terminal\". Paste the command you copied :)"
   ]
  },
  {
   "cell_type": "markdown",
   "id": "cca6528a",
   "metadata": {},
   "source": [
    "## Next Steps\n",
    "Experiment on your own in the UI by adding a description to your deployment, parameters, a schedule, and much more!"
   ]
  },
  {
   "cell_type": "markdown",
   "id": "f8cd3911",
   "metadata": {},
   "source": [
    "# Part 3. Run a more advanced flow\n",
    "Take a look at `my_second_script.py`.\n",
    "We will import the flow called `feeling_lucky`, which contains another flow (called a subflow) as well as tasks. Can Prefect handle it? You bet!"
   ]
  },
  {
   "cell_type": "code",
   "execution_count": 1,
   "id": "ec58ab91",
   "metadata": {},
   "outputs": [
    {
     "name": "stdout",
     "output_type": "stream",
     "text": [
      "Imported feeling_lucky flow\n"
     ]
    }
   ],
   "source": [
    "from my_second_script import feeling_lucky\n",
    "print(\"Imported feeling_lucky flow\")"
   ]
  },
  {
   "cell_type": "markdown",
   "id": "b1eaa1f8",
   "metadata": {},
   "source": [
    "## Run your flow!"
   ]
  },
  {
   "cell_type": "code",
   "execution_count": 2,
   "id": "c58b5b7c",
   "metadata": {},
   "outputs": [
    {
     "name": "stderr",
     "output_type": "stream",
     "text": [
      "15:07:43.571 | INFO    | prefect.engine - Created flow run 'pearl-cobra' for flow 'Feeling Lucky Flow'\n",
      "15:07:43.719 | INFO    | Flow run 'pearl-cobra' - Created task run 'Get random number-ed263e6f-0' for task 'Get random number'\n",
      "15:07:43.719 | INFO    | Flow run 'pearl-cobra' - Executing 'Get random number-ed263e6f-0' immediately...\n",
      "15:07:43.745 | INFO    | Task run 'Get random number-ed263e6f-0' - Finished in state Completed()\n",
      "15:07:43.779 | INFO    | Flow run 'pearl-cobra' - Created subflow run 'festive-mammoth' for flow 'Return game outcome message'\n",
      "15:07:43.809 | INFO    | Flow run 'festive-mammoth' - Created task run 'Determine if player wins-e617d722-0' for task 'Determine if player wins'\n",
      "15:07:43.810 | INFO    | Flow run 'festive-mammoth' - Executing 'Determine if player wins-e617d722-0' immediately...\n",
      "15:07:43.836 | INFO    | Task run 'Determine if player wins-e617d722-0' - Finished in state Completed()\n",
      "15:07:43.853 | INFO    | Flow run 'festive-mammoth' - Finished in state Completed('All states completed.')\n",
      "15:07:43.868 | INFO    | Flow run 'pearl-cobra' - Finished in state Completed('All states completed.')\n"
     ]
    },
    {
     "name": "stdout",
     "output_type": "stream",
     "text": [
      "You lost this round. Better luck next time.\n"
     ]
    },
    {
     "data": {
      "text/plain": [
       "[Completed(message=None, type=COMPLETED, result='lose')]"
      ]
     },
     "execution_count": 2,
     "metadata": {},
     "output_type": "execute_result"
    }
   ],
   "source": [
    "feeling_lucky()"
   ]
  },
  {
   "cell_type": "markdown",
   "id": "c188ae3a",
   "metadata": {},
   "source": [
    "As you can see, with just an `@flow` decorator, we gain visibility into each task that gets run successfully, as well as each flow. But we can also view this in the UI! Head on over to http://127.0.0.1:4200 once more!\n",
    "\n",
    "In the `Flow Runs` tab, filter the flows by `\"Feeling Lucky Flow\"`. We should see our flow listed, with logs and parameters, etc."
   ]
  },
  {
   "cell_type": "markdown",
   "id": "523b9c04",
   "metadata": {},
   "source": [
    "## Create a new deployment\n",
    "Let's create a deployment for this flow as well. \n",
    "\n",
    "It's worth noting that we can create as many deployments as we like for a single flow. This could be useful in case we want multiple schedules or sets of parameters. You could run the command below several times, only changing the `--name` argument to generate several deployments with ease that you can further customize in the UI. "
   ]
  },
  {
   "cell_type": "code",
   "execution_count": 3,
   "id": "1812ce49",
   "metadata": {},
   "outputs": [
    {
     "name": "stdout",
     "output_type": "stream",
     "text": [
      "Found flow 'Feeling Lucky Flow'\n",
      "Deployment YAML created at \n",
      "'/Users/bean/Documents/prefect-in-jupyter-notebook/feeling_lucky-deployment.yaml\n",
      "'.\n",
      "Deployment 'Feeling Lucky Flow/Second Flow Deployment' successfully created with\n",
      "id '6375aad3-47e4-4c12-a6da-8e1be2de14d0'.\n",
      "\n",
      "To execute flow runs from this deployment, start an agent that pulls work from \n",
      "the the 'default' work queue:\n",
      "$ prefect agent start -q 'default'\n"
     ]
    }
   ],
   "source": [
    "%%bash\n",
    "prefect deployment build my_second_script:feeling_lucky --name \"Second Flow Deployment\" --apply --skip-upload"
   ]
  },
  {
   "cell_type": "markdown",
   "id": "cdded321",
   "metadata": {},
   "source": [
    "Click `Second Flow Deployment` in the `Deployments` tab and click `Run`. Then click \"View Run\" in the bottom right corner. Our local agent is running and so should run the flow immediately. "
   ]
  },
  {
   "cell_type": "markdown",
   "id": "02a268c5",
   "metadata": {},
   "source": [
    "## Happy engineering\n",
    "We hope you were able to learn a little more about how Prefect works! Please see our docs to learn even more about the possibilities Prefect can give your workflows:\n",
    "https://docs.prefect.io/"
   ]
  }
 ],
 "metadata": {
  "kernelspec": {
   "display_name": "Python 3 (ipykernel)",
   "language": "python",
   "name": "python3"
  },
  "language_info": {
   "codemirror_mode": {
    "name": "ipython",
    "version": 3
   },
   "file_extension": ".py",
   "mimetype": "text/x-python",
   "name": "python",
   "nbconvert_exporter": "python",
   "pygments_lexer": "ipython3",
   "version": "3.10.4"
  },
  "vscode": {
   "interpreter": {
    "hash": "85c41614c0809ea67edb8f40bd66dd48c88720a96ccce3056986d75eb54b153e"
   }
  }
 },
 "nbformat": 4,
 "nbformat_minor": 5
}
