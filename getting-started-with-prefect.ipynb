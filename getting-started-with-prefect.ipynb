{
 "cells": [
  {
   "cell_type": "markdown",
   "id": "2f59afe9",
   "metadata": {},
   "source": [
    "# Part 1: Dipping your toes into Prefect\n",
    "Let's gain visibility into our Python functions with Prefect! All we have to do for observability, scheduling, UI, and more, is to add a single @flow decorator. After that, we'll also create a deployment and view our flow runs and deployment in the Prefect UI. "
   ]
  },
  {
   "cell_type": "markdown",
   "id": "200e50dd",
   "metadata": {},
   "source": [
    "## First, we'll install Prefect"
   ]
  },
  {
   "cell_type": "code",
   "execution_count": null,
   "id": "df94a551",
   "metadata": {},
   "outputs": [],
   "source": [
    "!pip install -U prefect"
   ]
  },
  {
   "cell_type": "markdown",
   "id": "851fc8f5",
   "metadata": {},
   "source": [
    "## Take a look at my_first_script.py\n",
    "We will import the flow called `my_favorite_number`."
   ]
  },
  {
   "cell_type": "code",
   "execution_count": null,
   "id": "19ecc749",
   "metadata": {},
   "outputs": [],
   "source": [
    "from my_first_script import my_favorite_number"
   ]
  },
  {
   "cell_type": "markdown",
   "id": "25044d50",
   "metadata": {},
   "source": [
    "## Run your flow!"
   ]
  },
  {
   "cell_type": "code",
   "execution_count": null,
   "id": "f571e734",
   "metadata": {},
   "outputs": [],
   "source": [
    "my_favorite_number()"
   ]
  },
  {
   "cell_type": "markdown",
   "id": "6e428a5e",
   "metadata": {},
   "source": [
    "## Let's view your flow run in the UI\n",
    "The following cell will open a new terminal, where you can start an Orion server by running `prefect orion start`. Visit http://127.0.0.1:4200 to view your Flow and Flow Runs."
   ]
  },
  {
   "cell_type": "code",
   "execution_count": null,
   "id": "af1cd0dc",
   "metadata": {},
   "outputs": [],
   "source": [
    "!open http://localhost:8888/terminals/1"
   ]
  },
  {
   "cell_type": "markdown",
   "id": "7e3770e7",
   "metadata": {},
   "source": [
    "# Part 2: Create a deployment in one command\n",
    "A deployment means you no longer need to call the function, flow or .py file locally to run your code on a regular schedule. With a single command, any script you write in Python can be executed regularly, and enables you to be notified of failures and observe the state of your jobs at all times."
   ]
  },
  {
   "cell_type": "code",
   "execution_count": null,
   "id": "fe7c942d",
   "metadata": {},
   "outputs": [],
   "source": [
    "%%bash\n",
    "prefect deployment build my_first_script:my_favorite_number --name \"First Flow Deployment\" -q first_q --apply --skip-upload"
   ]
  },
  {
   "cell_type": "markdown",
   "id": "8d6ffbbd",
   "metadata": {},
   "source": [
    "## View your deployment in the UI"
   ]
  },
  {
   "cell_type": "markdown",
   "id": "3d78e884",
   "metadata": {},
   "source": [
    "Visit http://127.0.0.1:4200 and take a look at the `Deployments` tab. Click on your new deployment (called `First Flow Deployment`). Then click the `Run` button in the top right (choose `Now with defaults`). This will create a 'flow run' from your deployment. The flow will move into a `Scheduled` state, and then a `Late` state. Now you just need an agent to actually run the job! "
   ]
  },
  {
   "cell_type": "markdown",
   "id": "82ebc6ea",
   "metadata": {},
   "source": [
    "## Execute flow runs from this deployment \n",
    "Start a local agent to run the job you created in the last step. To do this, you simply need to open a new terminal by running the cell below and running the command `prefect agent start -q first_q`. The -q argument refers to the work queue related to your deployment."
   ]
  },
  {
   "cell_type": "code",
   "execution_count": null,
   "id": "bb4406c7",
   "metadata": {},
   "outputs": [],
   "source": [
    "!open http://localhost:8888/terminals/2"
   ]
  },
  {
   "cell_type": "markdown",
   "id": "cca6528a",
   "metadata": {},
   "source": [
    "## Next Steps\n",
    "Experiment in the UI by adding a description to your deployment, adding parameters, and much more!"
   ]
  },
  {
   "cell_type": "markdown",
   "id": "f8cd3911",
   "metadata": {},
   "source": [
    "# Part 3. Run a more advanced flow\n",
    "Take a look at `my_second_script.py` which you can open from the `Jupyter Home Page` tab in your browser.\n",
    "We will import the flow called `feeling_lucky`, which contains another flow (called a subflow) as well as tasks."
   ]
  },
  {
   "cell_type": "code",
   "execution_count": null,
   "id": "ec58ab91",
   "metadata": {},
   "outputs": [],
   "source": [
    "from my_second_script import feeling_lucky"
   ]
  },
  {
   "cell_type": "markdown",
   "id": "b1eaa1f8",
   "metadata": {},
   "source": [
    "## Run your flow!"
   ]
  },
  {
   "cell_type": "code",
   "execution_count": null,
   "id": "c58b5b7c",
   "metadata": {},
   "outputs": [],
   "source": [
    "feeling_lucky()"
   ]
  },
  {
   "cell_type": "markdown",
   "id": "a0a30cd2",
   "metadata": {},
   "source": [
    "View your flow run in the UI: http://127.0.0.1:4200 (your Orion server should still be running)."
   ]
  },
  {
   "cell_type": "markdown",
   "id": "523b9c04",
   "metadata": {},
   "source": [
    "## Create a new deployment"
   ]
  },
  {
   "cell_type": "code",
   "execution_count": null,
   "id": "1812ce49",
   "metadata": {},
   "outputs": [],
   "source": [
    "%%bash\n",
    "prefect deployment build my_second_script:feeling_lucky --name \"Second Flow Deployment\" -q first_q --apply --skip-upload"
   ]
  },
  {
   "cell_type": "markdown",
   "id": "02a268c5",
   "metadata": {},
   "source": [
    "## Happy engineering\n",
    "We hope you were able to learn a little more about how Prefect works! Please see our docs to learn even more about the possibilities Prefect can give your workflows:\n",
    "https://docs.prefect.io/"
   ]
  }
 ],
 "metadata": {
  "kernelspec": {
   "display_name": "Python 3 (ipykernel)",
   "language": "python",
   "name": "python3"
  },
  "language_info": {
   "codemirror_mode": {
    "name": "ipython",
    "version": 3
   },
   "file_extension": ".py",
   "mimetype": "text/x-python",
   "name": "python",
   "nbconvert_exporter": "python",
   "pygments_lexer": "ipython3",
   "version": "3.8.13"
  },
  "vscode": {
   "interpreter": {
    "hash": "85c41614c0809ea67edb8f40bd66dd48c88720a96ccce3056986d75eb54b153e"
   }
  }
 },
 "nbformat": 4,
 "nbformat_minor": 5
}
